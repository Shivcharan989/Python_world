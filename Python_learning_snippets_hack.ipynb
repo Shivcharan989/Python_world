{
  "nbformat": 4,
  "nbformat_minor": 0,
  "metadata": {
    "colab": {
      "name": "Python_learning_snippets_hack.ipynb",
      "provenance": [],
      "collapsed_sections": [],
      "authorship_tag": "ABX9TyO9QlG+nQee1b/WENLYrEnS",
      "include_colab_link": true
    },
    "kernelspec": {
      "name": "python3",
      "display_name": "Python 3"
    },
    "language_info": {
      "name": "python"
    }
  },
  "cells": [
    {
      "cell_type": "markdown",
      "metadata": {
        "id": "view-in-github",
        "colab_type": "text"
      },
      "source": [
        "<a href=\"https://colab.research.google.com/github/Shivcharan989/Python_world/blob/main/Python_learning_snippets_hack.ipynb\" target=\"_parent\"><img src=\"https://colab.research.google.com/assets/colab-badge.svg\" alt=\"Open In Colab\"/></a>"
      ]
    },
    {
      "cell_type": "code",
      "execution_count": null,
      "metadata": {
        "colab": {
          "base_uri": "https://localhost:8080/"
        },
        "id": "zJGm9CxefayS",
        "outputId": "9f531926-c767-4568-d64d-d56912aea261"
      },
      "outputs": [
        {
          "output_type": "stream",
          "name": "stdout",
          "text": [
            "What is the LBS value? 10\n",
            "The KG is 22.046\n"
          ]
        }
      ],
      "source": [
        "lbs = int(input(\"What is the LBS value? \"))\n",
        "print(f\"The KG is {lbs*2.2046}\")"
      ]
    },
    {
      "cell_type": "code",
      "source": [
        "a,b = 10,12\n",
        "print(\"The KG is {} and other values is {}\".format(a,b))"
      ],
      "metadata": {
        "colab": {
          "base_uri": "https://localhost:8080/"
        },
        "id": "0v5J2u5sk9W2",
        "outputId": "f0cac24f-de57-4253-a0f1-32b0e82695f9"
      },
      "execution_count": null,
      "outputs": [
        {
          "output_type": "stream",
          "name": "stdout",
          "text": [
            "The KG is 10 and other values is 12\n"
          ]
        }
      ]
    },
    {
      "cell_type": "code",
      "source": [
        "a=2\n",
        "b=a*2.246\n",
        "print(b)"
      ],
      "metadata": {
        "colab": {
          "base_uri": "https://localhost:8080/"
        },
        "id": "fN-6Pr-KiJMw",
        "outputId": "6eb72469-6a3b-493e-aa96-496f579d2751"
      },
      "execution_count": null,
      "outputs": [
        {
          "output_type": "stream",
          "name": "stdout",
          "text": [
            "4.492\n"
          ]
        }
      ]
    },
    {
      "cell_type": "code",
      "source": [
        "radius = float(input(\"What is the radius? \"))\n",
        "pi = 3.14\n",
        "print(f\"Area of circle is {radius*pi*2}\")"
      ],
      "metadata": {
        "colab": {
          "base_uri": "https://localhost:8080/"
        },
        "id": "tiKaj0tBfzU0",
        "outputId": "7fa4bcf4-a1da-4c3b-aa6e-9ae05869c89f"
      },
      "execution_count": null,
      "outputs": [
        {
          "output_type": "stream",
          "name": "stdout",
          "text": [
            "What is the radius? 12\n",
            "Area of circle is 75.36\n"
          ]
        }
      ]
    },
    {
      "cell_type": "code",
      "source": [
        "a = 10\n",
        "print(a*3+6/3-a)"
      ],
      "metadata": {
        "colab": {
          "base_uri": "https://localhost:8080/"
        },
        "id": "ofrwLMSgg22Z",
        "outputId": "183b2036-b627-43c4-a602-68cbcc5866b3"
      },
      "execution_count": null,
      "outputs": [
        {
          "output_type": "stream",
          "name": "stdout",
          "text": [
            "22.0\n"
          ]
        }
      ]
    },
    {
      "cell_type": "code",
      "source": [
        "x = list(map(int, input(\"Enter multiple values: \").split()))\n",
        "print(\"List of students: \", x)"
      ],
      "metadata": {
        "colab": {
          "base_uri": "https://localhost:8080/"
        },
        "id": "LDwi5SoXhsEl",
        "outputId": "bb88166a-14be-4172-c719-ff4eaab7ff63"
      },
      "execution_count": null,
      "outputs": [
        {
          "output_type": "stream",
          "name": "stdout",
          "text": [
            "Enter multiple values: 1234\n",
            "List of students:  [1234]\n"
          ]
        }
      ]
    },
    {
      "cell_type": "code",
      "source": [
        "a = input(\"give first value : \")\n",
        "b = input(\"give first value : \")\n",
        "print(int(a)*int(b))"
      ],
      "metadata": {
        "colab": {
          "base_uri": "https://localhost:8080/"
        },
        "id": "UPzKf8JNkfG4",
        "outputId": "92c45c87-9b0c-47a1-80d1-30f382300da2"
      },
      "execution_count": null,
      "outputs": [
        {
          "output_type": "stream",
          "name": "stdout",
          "text": [
            "give first value : 12\n",
            "give first value : 2\n",
            "24\n"
          ]
        }
      ]
    },
    {
      "cell_type": "code",
      "source": [
        "age = int(input(\"What is your age? \"))\n",
        "birth_year = 2022-age\n",
        "print(\"your birth year is \"+str(birth_year))\n",
        "print(f\"You are {age*365} days old\")\n",
        "print(f\"you are {age*365*24} hours old\")\n",
        "print(f\"you are {age*365*24*60} minutes old\")\n",
        "print(f\"you are {age*365*24*60*60} seconds old\")"
      ],
      "metadata": {
        "colab": {
          "base_uri": "https://localhost:8080/"
        },
        "id": "AkcLBWduoeOP",
        "outputId": "acfce1dc-ba4f-4192-9f35-09c92fe2a34a"
      },
      "execution_count": null,
      "outputs": [
        {
          "output_type": "stream",
          "name": "stdout",
          "text": [
            "What is your age? 24\n",
            "your birth year is 1998\n",
            "You are 8760 days old\n",
            "you are 210240 hours old\n",
            "you are 12614400 minutes old\n",
            "you are 756864000 seconds old\n"
          ]
        }
      ]
    },
    {
      "cell_type": "code",
      "source": [
        "billcost = int(input(\"what is your total amount : \"))\n",
        "percentage = float(input(\"What is you percentage for your tip : \"))\n",
        "tip_amount = (billcost*percentage)/100\n",
        "print(round(tip_amount,2))"
      ],
      "metadata": {
        "colab": {
          "base_uri": "https://localhost:8080/"
        },
        "id": "D0-3cIXhqgCB",
        "outputId": "3f320505-d836-4cc2-8654-615a0fd99f41"
      },
      "execution_count": null,
      "outputs": [
        {
          "output_type": "stream",
          "name": "stdout",
          "text": [
            "what is your total amount : 1500\n",
            "What is you percentage for your tip : 5.5\n",
            "82.5\n"
          ]
        }
      ]
    },
    {
      "cell_type": "code",
      "source": [
        "gender = input(\"What is your gender(male/female)  : \")\n",
        "if(gender == \"male\"):\n",
        "  age = input(\"what is your age : \")\n",
        "  if(int(age)<=26):\n",
        "    print(\"you have to pay 23%\")\n",
        "  else:\n",
        "    print(\"you have to pay 6%\") \n",
        "elif(gender == \"female\"):\n",
        "  sports = input(\"do  ou like sports (yes/no)  : \")\n",
        "  if(sports == \"yes\"):\n",
        "    print(\"you have to pay 21%\") \n",
        "  else: \n",
        "    print(\"you have to pay 10%\")        "
      ],
      "metadata": {
        "colab": {
          "base_uri": "https://localhost:8080/"
        },
        "id": "wyPThupusZci",
        "outputId": "1d6b5cea-6be7-43d7-bd2c-b00ccb317e10"
      },
      "execution_count": null,
      "outputs": [
        {
          "output_type": "stream",
          "name": "stdout",
          "text": [
            "What is your gender(male/female)  : female\n",
            "do  ou like sports (yes/no)  : yes\n",
            "you have to pay 21%\n"
          ]
        }
      ]
    },
    {
      "cell_type": "code",
      "source": [
        "import random\n",
        "a = random.randint(1,10)\n",
        "b = random.randint(1,10)\n",
        "final_answer = a*b\n",
        "print(f\"What is the answer if you multiply {a} and {b} ?\")\n",
        "pred = input(\"Please type you answer : \")\n",
        "pred = int(pred)\n",
        "\n",
        "if(pred == final_answer):\n",
        "  print(\"Correct answer\")\n",
        "\n",
        "else:\n",
        "  print(\"It's not correct answer, Correct answer is \"+str(final_answer))  "
      ],
      "metadata": {
        "colab": {
          "base_uri": "https://localhost:8080/"
        },
        "id": "P4pcX4cGwo8V",
        "outputId": "d405f160-5e83-4b65-b8d7-b4d651bd1c26"
      },
      "execution_count": null,
      "outputs": [
        {
          "output_type": "stream",
          "name": "stdout",
          "text": [
            "What is the answer if you multiply 7 and 5 ?\n",
            "Please type you answer : 35\n",
            "Correct answer\n"
          ]
        }
      ]
    },
    {
      "cell_type": "code",
      "source": [
        "#rock paper scissors game simulation using Python\n",
        "print(\"1. rock  2. Paper  3. Scissors\")\n",
        "choice = input(\"choice (1/2/3) : \")\n",
        "choice = int(choice)\n",
        "\n",
        "computer_choice = random.randint(1,3)\n",
        "if(computer_choice == 1):\n",
        "  print(\"comp choice is Rock\")\n",
        "elif(computer_choice == 2):\n",
        "  print(\"comp choice is Paper\")  \n",
        "elif(computer_choice == 3):\n",
        "  print(\"comp choice is Scissors\")  \n",
        "\n",
        "if(choice == computer_choice):\n",
        "  print(\"it's draw\")\n",
        "if(choice == 1 and computer_choice == 2):\n",
        "  print(\"paper beats rock  : computer won\")\n",
        "if(choice == 1 and computer_choice == 3):\n",
        "  print(\"rock  beats scissors  : you won\")\n",
        "if(choice == 2 and computer_choice == 1):\n",
        "  print(\"paper beats rock  : you won\")\n",
        "if(choice == 2 and computer_choice == 3):\n",
        "  print(\"scissor beats paper  : computer won\")\n",
        "if(choice == 3 and computer_choice == 1):\n",
        "  print(\"rock beats scissors  : computer won\")\n",
        "if(choice == 3 and computer_choice == 2):\n",
        "  print(\"scissor beats paper  : you won\")          \n"
      ],
      "metadata": {
        "colab": {
          "base_uri": "https://localhost:8080/"
        },
        "id": "CGsQg-UfzoVG",
        "outputId": "6f6569da-0b4c-4d73-f282-fae3ae1a93bf"
      },
      "execution_count": null,
      "outputs": [
        {
          "output_type": "stream",
          "name": "stdout",
          "text": [
            "1. rock  2. Paper  3. Scissors\n",
            "choice (1/2/3) : 2\n",
            "comp choice is Scissors\n",
            "scissor beats paper  : computer won\n"
          ]
        }
      ]
    },
    {
      "cell_type": "code",
      "source": [
        "new_list = [\"apple\",\"orange\",\"banana\"]\n",
        "random.choice(new_list)"
      ],
      "metadata": {
        "colab": {
          "base_uri": "https://localhost:8080/",
          "height": 35
        },
        "id": "FevyMfzN4NdD",
        "outputId": "40a2497d-91bf-4bc8-f9ba-21df52c61329"
      },
      "execution_count": null,
      "outputs": [
        {
          "output_type": "execute_result",
          "data": {
            "text/plain": [
              "'orange'"
            ],
            "application/vnd.google.colaboratory.intrinsic+json": {
              "type": "string"
            }
          },
          "metadata": {},
          "execution_count": 39
        }
      ]
    },
    {
      "cell_type": "code",
      "source": [
        "random.shuffle(new_list)\n",
        "print(new_list)"
      ],
      "metadata": {
        "colab": {
          "base_uri": "https://localhost:8080/"
        },
        "id": "lEYb_mwGLHr2",
        "outputId": "429300b8-e56e-4457-8777-00792c618576"
      },
      "execution_count": null,
      "outputs": [
        {
          "output_type": "stream",
          "name": "stdout",
          "text": [
            "['orange', 'banana', 'apple']\n"
          ]
        }
      ]
    },
    {
      "cell_type": "code",
      "source": [
        "' '.join(new_list) # joins list with space\n",
        "\n"
      ],
      "metadata": {
        "colab": {
          "base_uri": "https://localhost:8080/",
          "height": 35
        },
        "id": "MGhqgEUGLMvT",
        "outputId": "3562d882-641e-40d6-cf44-b07654f77e02"
      },
      "execution_count": null,
      "outputs": [
        {
          "output_type": "execute_result",
          "data": {
            "text/plain": [
              "'orange banana apple'"
            ],
            "application/vnd.google.colaboratory.intrinsic+json": {
              "type": "string"
            }
          },
          "metadata": {},
          "execution_count": 43
        }
      ]
    },
    {
      "cell_type": "code",
      "source": [
        "''.join(new_list)  #without space"
      ],
      "metadata": {
        "colab": {
          "base_uri": "https://localhost:8080/",
          "height": 35
        },
        "id": "rkuPJX1MLmfb",
        "outputId": "ef272ef8-df83-4f4f-e23d-c9d372162c41"
      },
      "execution_count": null,
      "outputs": [
        {
          "output_type": "execute_result",
          "data": {
            "text/plain": [
              "'orangebananaapple'"
            ],
            "application/vnd.google.colaboratory.intrinsic+json": {
              "type": "string"
            }
          },
          "metadata": {},
          "execution_count": 44
        }
      ]
    },
    {
      "cell_type": "code",
      "source": [
        "# to jumble a random word\n",
        "\n",
        "a = \"welcome\"\n",
        "' '.join(random.sample(a,len(a)))"
      ],
      "metadata": {
        "colab": {
          "base_uri": "https://localhost:8080/",
          "height": 35
        },
        "id": "67BhDajwLolK",
        "outputId": "6800d112-9625-4a46-c88c-3b77bf4ddd01"
      },
      "execution_count": null,
      "outputs": [
        {
          "output_type": "execute_result",
          "data": {
            "text/plain": [
              "'c w e e l o m'"
            ],
            "application/vnd.google.colaboratory.intrinsic+json": {
              "type": "string"
            }
          },
          "metadata": {},
          "execution_count": 46
        }
      ]
    },
    {
      "cell_type": "code",
      "source": [
        "word_list = [\"father\",\"enterprise\",\"science\",\"programming\"]\n",
        "rand_word = random.choice(word_list)\n",
        "scrambled_word = ''.join(random.sample(rand_word,len(rand_word)))\n",
        "\n",
        "print(\"guess what word is this ? : \"+str(scrambled_word))\n",
        "answer = input(\"type your answer here : \")\n",
        "\n",
        "if(answer == rand_word):\n",
        "  print(\"correct answer\")\n",
        "else: \n",
        "  print(f\"No, the correct answer is {rand_word}\") "
      ],
      "metadata": {
        "colab": {
          "base_uri": "https://localhost:8080/"
        },
        "id": "3WnMENmeMV4a",
        "outputId": "7a939da6-f7ce-43da-d6d8-fae93fe58679"
      },
      "execution_count": null,
      "outputs": [
        {
          "output_type": "stream",
          "name": "stdout",
          "text": [
            "guess what word is this ? : ecncies\n",
            "type your answer here : welcome\n",
            "No, the correct answer is science\n"
          ]
        }
      ]
    },
    {
      "cell_type": "code",
      "source": [
        "#word guessing game\n",
        "\n",
        "word_list = [\"father\",\"enterprise\",\"science\",\"programming\"]\n",
        "rand_word = random.choice(word_list)\n",
        "rand_wrd_cpy = rand_word\n",
        "print(f\"The random word is {len(rand_word)} letter word\")\n",
        "turn = 10\n",
        "guess_list = []\n",
        "\n",
        "while turn>0:\n",
        "  print(f\"{turn} turns remaining\")\n",
        "  guess_char = input(\"guess the alphabet : \")\n",
        "  turn-=1\n",
        "  if guess_char in rand_word:\n",
        "    for i in rand_wrd_cpy:\n",
        "      if(i==guess_char):\n",
        "        continue;\n",
        "      else:\n",
        "        y = rand_wrd_cpy.replace(i+1,\"_\")  \n",
        "    print(y)\n",
        "    print(\"prediction success\")\n",
        "    guess_list.append(guess_char)\n",
        "    disp_val =''.join(guess_list)\n",
        "    \n",
        "\n",
        "  else:\n",
        "    print(\"wrong guess\") \n",
        "\n",
        "print(\"you have lost all the 10 turns, you lost\")     "
      ],
      "metadata": {
        "id": "Bjw9ocXntc0E"
      },
      "execution_count": null,
      "outputs": []
    },
    {
      "cell_type": "code",
      "source": [
        "#encryption decryption using python\n",
        "\n",
        "def encryption(message,key):\n",
        "  message = message.upper()\n",
        "  print(\"Given word :\", message)\n",
        "  main_string = \"\"\n",
        "  for i in range(len(message)):\n",
        "      if message[i] == \" \":\n",
        "        main_string = main_string+\" \"\n",
        "        continue\n",
        "\n",
        "      converted = ord(message[i])\n",
        "      converted+=key\n",
        "      encrypted = chr(converted)\n",
        "      main_string = main_string+encrypted\n",
        "  return  print(\"Encrypted word :\", main_string)   \n",
        "\n",
        "\n",
        "def decryption(message):\n",
        "  print(\"encrypted word :\", message)\n",
        "  main_string = \"\"\n",
        "  for i in range(len(message)):\n",
        "      if message[i] == \" \":\n",
        "        main_string = main_string+\" \"\n",
        "        continue\n",
        "\n",
        "      converted = ord(message[i])\n",
        "      converted-=3\n",
        "      encrypted = chr(converted)\n",
        "      main_string = main_string+encrypted\n",
        "  return  print(\"Decrypted word :\", main_string)    "
      ],
      "metadata": {
        "id": "BNrVJu2mxoyS"
      },
      "execution_count": 32,
      "outputs": []
    },
    {
      "cell_type": "code",
      "source": [
        "encryption(\"Hello friend\",3)"
      ],
      "metadata": {
        "colab": {
          "base_uri": "https://localhost:8080/"
        },
        "id": "R9Zf-wuZyqWb",
        "outputId": "5cc212b9-0da8-4fd3-e9ef-77499bd47386"
      },
      "execution_count": 33,
      "outputs": [
        {
          "output_type": "stream",
          "name": "stdout",
          "text": [
            "Given word : HELLO FRIEND\n",
            "Encrypted word : KHOOR IULHQG\n"
          ]
        }
      ]
    },
    {
      "cell_type": "code",
      "source": [
        "decryption(\"KHOOR IULHQG\")"
      ],
      "metadata": {
        "colab": {
          "base_uri": "https://localhost:8080/"
        },
        "id": "VghnzKyzzjp3",
        "outputId": "44bb2424-97e5-42f5-e4a6-8f6c108762c8"
      },
      "execution_count": 35,
      "outputs": [
        {
          "output_type": "stream",
          "name": "stdout",
          "text": [
            "encrypted word : KHOOR IULHQG\n",
            "Decrypted word : HELLO FRIEND\n"
          ]
        }
      ]
    },
    {
      "cell_type": "code",
      "source": [
        "# count of elements in a list\n",
        "\n",
        "items = [\"pen\",\"pencil\",\"Scissors\",\"pen\",\"pencil\"]\n",
        "count = {}\n",
        "\n",
        "for item in items:\n",
        "  count[item] = count.get(item,0)+1"
      ],
      "metadata": {
        "id": "BegXYnXp2Yx3"
      },
      "execution_count": 38,
      "outputs": []
    },
    {
      "cell_type": "code",
      "source": [
        "count"
      ],
      "metadata": {
        "colab": {
          "base_uri": "https://localhost:8080/"
        },
        "id": "bZmFWzg-6eri",
        "outputId": "6ccae4c7-df52-4b12-fa1b-80178a6bef7d"
      },
      "execution_count": 39,
      "outputs": [
        {
          "output_type": "execute_result",
          "data": {
            "text/plain": [
              "{'Scissors': 1, 'pen': 2, 'pencil': 2}"
            ]
          },
          "metadata": {},
          "execution_count": 39
        }
      ]
    },
    {
      "cell_type": "code",
      "source": [
        "text = list(map(str, input(\"Enter the text : \").split()))\n",
        "print(text)"
      ],
      "metadata": {
        "colab": {
          "base_uri": "https://localhost:8080/"
        },
        "id": "s1YDAcRe6jXL",
        "outputId": "d06a7242-ac13-4983-9e1a-2a52cd8a57ae"
      },
      "execution_count": 41,
      "outputs": [
        {
          "output_type": "stream",
          "name": "stdout",
          "text": [
            "Enter the text : welcome here\n",
            "['welcome', 'here']\n"
          ]
        }
      ]
    },
    {
      "cell_type": "code",
      "source": [
        "#frequemcy detection hack\n",
        "text = input(\"enter string : \")\n",
        "text = text.lower()\n",
        "freq_count = {}\n",
        "\n",
        "for char in text:\n",
        "  if(char == \" \"): continue\n",
        "  freq_count[char] = freq_count.get(char,0)+1\n",
        "freq_count\n",
        "\n",
        "for key,val in freq_count.items():\n",
        "  print(f\"{key} : {val}\")\n"
      ],
      "metadata": {
        "colab": {
          "base_uri": "https://localhost:8080/"
        },
        "id": "zKHkfP9N869M",
        "outputId": "bf25c3a3-35ac-48f8-91ca-fde8898cebdf"
      },
      "execution_count": 54,
      "outputs": [
        {
          "output_type": "stream",
          "name": "stdout",
          "text": [
            "enter string : hi hello\n",
            "h : 2\n",
            "i : 1\n",
            "e : 1\n",
            "l : 2\n",
            "o : 1\n"
          ]
        }
      ]
    },
    {
      "cell_type": "code",
      "source": [
        "capital = {\"India\":\"delhi\", \"France\":\"paris\", \"Finland\":'Helenski'}\n",
        "import random\n",
        "\n",
        "for i in range(3):\n",
        "  country = random.choice(list(capital.keys()))\n",
        "  print(\"What is the capital of \"+ str(country))\n",
        "  value = input(\"what is the answer : \")\n",
        "\n",
        "  if(value.lower() == capital[country].lower()):\n",
        "    print(\"correct answer\")\n",
        "  else:\n",
        "    print(\"Incorrect , correct answer is \",capital[country])  \n"
      ],
      "metadata": {
        "colab": {
          "base_uri": "https://localhost:8080/"
        },
        "id": "05mbIVN7-JLf",
        "outputId": "cf11ba88-b465-4014-94f0-eef568e54d86"
      },
      "execution_count": 50,
      "outputs": [
        {
          "output_type": "stream",
          "name": "stdout",
          "text": [
            "What is the capital of Finland\n",
            "what is the answer : india\n",
            "Incorrect , correct answer is  Helenski\n",
            "What is the capital of India\n",
            "what is the answer : delhi\n",
            "correct answer\n",
            "What is the capital of Finland\n",
            "what is the answer : helenSKI\n",
            "correct answer\n"
          ]
        }
      ]
    },
    {
      "cell_type": "code",
      "source": [
        ""
      ],
      "metadata": {
        "id": "9vD_YMWc-jnN"
      },
      "execution_count": null,
      "outputs": []
    }
  ]
}